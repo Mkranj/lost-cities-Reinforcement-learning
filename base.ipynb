{
 "cells": [
  {
   "cell_type": "code",
   "execution_count": 24,
   "metadata": {},
   "outputs": [],
   "source": [
    "class Card:\n",
    "    def __init__(self, number:int, colour:str) -> None:\n",
    "        self.number = number\n",
    "        self.colour = colour\n",
    "        self.wager = self._is_wager(self.number)\n",
    "\n",
    "    def _is_wager(self,number):\n",
    "        if number == 0:\n",
    "            return True\n",
    "    \n",
    "    def __str__(self):\n",
    "        return f\"{self.colour} {self.number}\""
   ]
  },
  {
   "cell_type": "code",
   "execution_count": 2,
   "metadata": {},
   "outputs": [],
   "source": [
    "import random\n",
    "class Deck():\n",
    "    def __init__(self, cards:list) -> None:\n",
    "        self.list = [] \n",
    "        self.populate_deck(cards)\n",
    "        self.len = len(cards)\n",
    "\n",
    "    def populate_deck(self, cards:list):\n",
    "        for card in cards:\n",
    "            self.list.append(card)\n",
    "    \n",
    "    def shuffle_deck(self):\n",
    "        random.shuffle(self.list )"
   ]
  },
  {
   "cell_type": "code",
   "execution_count": 3,
   "metadata": {},
   "outputs": [],
   "source": [
    "class Player():\n",
    "    def __init__(self, number:int):\n",
    "        self.number = number\n",
    "        self.hand = []\n",
    "        self.expedition = {}"
   ]
  },
  {
   "cell_type": "code",
   "execution_count": null,
   "metadata": {},
   "outputs": [],
   "source": []
  },
  {
   "cell_type": "code",
   "execution_count": 89,
   "metadata": {},
   "outputs": [],
   "source": [
    "class GameManager():\n",
    "    def __init__(self) -> None:\n",
    "        self.colours = [\"red\",\"blue\", \"yellow\", \"green\", \"white\"]\n",
    "        self.player1= Player(1)\n",
    "        self.player2= Player(2)\n",
    "        self.players = {1:self.player1, 2:self.player2}\n",
    "        self.player_turn = 1\n",
    "        self.deck = self.generate_deck()\n",
    "        self.discard_pile = self.generate_discard()\n",
    "        self.score_dict = {}\n",
    "\n",
    "    def next_player(self):\n",
    "        if self.player_turn == 1:\n",
    "            self.player_turn = 2\n",
    "        else: \n",
    "            self.player_turn=1\n",
    "\n",
    "    def generate_deck(self):\n",
    "        numbers = [0,0,0,2,3,4,5,6,7,8,9,10]\n",
    "        cards = []\n",
    "        for colour in self.colours:\n",
    "            for number in numbers:\n",
    "                cards.append(Card(number, colour))\n",
    "        deck = Deck(cards)\n",
    "        return deck\n",
    "\n",
    "    def generate_discard(self):\n",
    "        discard_dict = {}\n",
    "        for colour in self.colours:\n",
    "            discard_dict[colour] = []\n",
    "        return discard_dict\n",
    "\n",
    "    def check_card_to_expedition(self,player_n:int, card_n:int):\n",
    "        ''' check if card is too small to be played to the expedition'''\n",
    "        player = self.players[player_n]\n",
    "        card = player.hand[card_n]\n",
    "        colour = card.colour\n",
    "\n",
    "        if len(player.expedition[colour]) == 0:\n",
    "            return True\n",
    "\n",
    "        if player.expedition[colour][-1].number <= card.number:\n",
    "            return True\n",
    "\n",
    "        else:\n",
    "            return False\n",
    " \n",
    "    def is_move_legal(self,player:int, card:int, to_expedition:bool, draw_from:int):\n",
    "        ''' Check if player is allowed to do this move'''\n",
    "    \t#is allowed to play that expedition\n",
    "        if to_expedition:\n",
    "            allowed_to_expedition =  self.check_card_to_expedition(player, card)\n",
    "            if not allowed_to_expedition:\n",
    "                return False\n",
    "        \n",
    "        #is allowed to drawi from pile\n",
    "        if draw_from > -1:\n",
    "            colour = self.colours[draw_from]\n",
    "            if len (self.discard_pile[colour]) ==0:\n",
    "                return False\n",
    "        \n",
    "        return True\n",
    "\n",
    "    def take_random_action(self,player:int):\n",
    "        ''' generate_random action'''\n",
    "        card = random.randint(0,7)\n",
    "        to_expedition = random.choice([True,False])\n",
    "        draw_from = random.randint(-1,4)\n",
    "\n",
    "        legal = self.is_move_legal(player,card, to_expedition, draw_from)\n",
    "        if legal:\n",
    "            self.take_action(player,card, to_expedition, draw_from)\n",
    "            self.next_player()\n",
    "        else: \n",
    "            self.take_random_action(player)\n",
    "\n",
    "    def take_action(self, player_n:int, card_n:int, to_expedition:bool, draw_from:int ):\n",
    "        ''' Player takes action, choosing card from hand (number 0 to 7), \n",
    "        chooses if they play it to expedition or to discard pile. Also chooses if they draw from  '''\n",
    "        #print( f\"Player {player_n} taking action on card n {card_n}, to expedition: {to_expedition}, draw_from: {draw_from}\")\n",
    "        player = self.players[player_n]\n",
    "        card = player.hand.pop(card_n)\n",
    "        colour = card.colour\n",
    "        if to_expedition:\n",
    "            player.expedition[colour].append(card)\n",
    "        else:\n",
    "            self.discard_pile[colour].append(card)\n",
    "\n",
    "        if draw_from == -1:\n",
    "            self.draw_card_from_deck(player)\n",
    "        else:\n",
    "            draw_colour = self.colours[draw_from]\n",
    "            card = self.discard_pile[draw_colour].pop() #takes last item\n",
    "            player.hand.append(card)\n",
    "\n",
    "    def initiate_expeditions(self):\n",
    "        #empty dicts for player expeditions\n",
    "        for n,player in self.players.items():\n",
    "            expedition_dict = {}\n",
    "            for colour in self.colours:\n",
    "                expedition_dict[colour] = []\n",
    "            player.expedition= expedition_dict\n",
    "    \n",
    "    def draw_card_from_deck(self,player:Player):\n",
    "        ''' draw a card from the deck and deal it to the player'''\n",
    "        card = self.deck.list.pop()\n",
    "        player.hand.append(card)\n",
    "\n",
    "    def deal_starting_cards(self):\n",
    "        ''' deal 8 cards to each player'''\n",
    "        for n,player in self.players.items():\n",
    "            for _ in range(0,8):\n",
    "                self.draw_card_from_deck(player)\n",
    "\n",
    "    def start_game(self):\n",
    "        self.deck.shuffle_deck()\n",
    "        self.initiate_expeditions()\n",
    "        self.deal_starting_cards()\n",
    "\n",
    "    def play_game(self):\n",
    "        while len(self.deck.list) > 0:\n",
    "            self.take_random_action(self.player_turn)\n",
    "        self.score()\n",
    "        print(\"end\")\n",
    "    \n",
    "    def reset_game(self):\n",
    "        pass\n",
    "\n",
    "    def score(self):\n",
    "        score_dict = {1:0, 2:0}\n",
    "        for player_n, player in self.players.items():\n",
    "            for colour,colour_list in player.expedition.items():\n",
    "                if len(colour_list) == 0:\n",
    "                    pass\n",
    "                else:\n",
    "                    n_wagers = 0\n",
    "                    total = 0\n",
    "                    for card in colour_list:\n",
    "                        if card.number == 0:\n",
    "                            n_wagers += 1\n",
    "                        else:\n",
    "                            total += card.number\n",
    "                    score = (total - 20) * (n_wagers +1)\n",
    "            \n",
    "                    if len(colour_list) >= 8:\n",
    "                        score += 20\n",
    "\n",
    "                    print(f\"player {player_n}: colour{colour}: {score} len_list = {len(colour_list) }\")\n",
    "                    score_dict[player_n] += score\n",
    "        \n",
    "        self.score_dict = score_dict\n",
    "\n",
    "    def write_score(self):\n",
    "        pass\n",
    "        \n",
    "    #score"
   ]
  },
  {
   "cell_type": "code",
   "execution_count": null,
   "metadata": {},
   "outputs": [],
   "source": []
  },
  {
   "cell_type": "code",
   "execution_count": 102,
   "metadata": {},
   "outputs": [
    {
     "name": "stdout",
     "output_type": "stream",
     "text": [
      "player 1: colourred: -24 len_list = 2\n",
      "player 1: colourblue: -28 len_list = 2\n",
      "player 1: colouryellow: -10 len_list = 1\n",
      "player 1: colourgreen: -4 len_list = 3\n",
      "player 1: colourwhite: -12 len_list = 1\n",
      "player 2: colourred: -7 len_list = 2\n",
      "player 2: colourblue: 18 len_list = 5\n",
      "player 2: colouryellow: -11 len_list = 1\n",
      "player 2: colourgreen: -6 len_list = 3\n",
      "player 2: colourwhite: -1 len_list = 2\n",
      "end\n"
     ]
    },
    {
     "data": {
      "text/plain": [
       "{1: -78, 2: -7}"
      ]
     },
     "execution_count": 102,
     "metadata": {},
     "output_type": "execute_result"
    }
   ],
   "source": [
    "gm = GameManager()\n",
    "gm.start_game()\n",
    "gm.play_game()\n",
    "gm.score_dict"
   ]
  },
  {
   "cell_type": "code",
   "execution_count": 92,
   "metadata": {},
   "outputs": [
    {
     "data": {
      "text/plain": [
       "{1: 17, 2: -43}"
      ]
     },
     "execution_count": 92,
     "metadata": {},
     "output_type": "execute_result"
    }
   ],
   "source": []
  },
  {
   "cell_type": "code",
   "execution_count": 93,
   "metadata": {},
   "outputs": [
    {
     "name": "stdout",
     "output_type": "stream",
     "text": [
      "player 1: colourred: -1 len_list = 3\n",
      "player 1: colourblue: -1 len_list = 3\n",
      "player 1: colouryellow: 3 len_list = 5\n",
      "player 1: colourgreen: 12 len_list = 5\n",
      "player 1: colourwhite: 4 len_list = 4\n",
      "player 2: colourred: -3 len_list = 2\n",
      "player 2: colourblue: -12 len_list = 1\n",
      "player 2: colouryellow: -10 len_list = 1\n",
      "player 2: colourgreen: -4 len_list = 2\n",
      "player 2: colourwhite: -14 len_list = 3\n"
     ]
    }
   ],
   "source": [
    "gm.score()"
   ]
  },
  {
   "cell_type": "code",
   "execution_count": 94,
   "metadata": {},
   "outputs": [
    {
     "data": {
      "text/plain": [
       "{'red': [<__main__.Card at 0x267582f2190>, <__main__.Card at 0x26758293370>],\n",
       " 'blue': [<__main__.Card at 0x267582a7ca0>],\n",
       " 'yellow': [<__main__.Card at 0x267582a7e80>],\n",
       " 'green': [<__main__.Card at 0x26758307040>, <__main__.Card at 0x267583077f0>],\n",
       " 'white': [<__main__.Card at 0x26758307e20>,\n",
       "  <__main__.Card at 0x26758307d60>,\n",
       "  <__main__.Card at 0x267583074f0>]}"
      ]
     },
     "execution_count": 94,
     "metadata": {},
     "output_type": "execute_result"
    }
   ],
   "source": [
    "gm.player2.expedition"
   ]
  },
  {
   "cell_type": "code",
   "execution_count": 95,
   "metadata": {},
   "outputs": [
    {
     "name": "stdout",
     "output_type": "stream",
     "text": [
      "red 7\n",
      "red 10\n",
      "blue 8\n",
      "yellow 10\n",
      "green 6\n",
      "green 10\n",
      "white 0\n",
      "white 6\n",
      "white 7\n"
     ]
    }
   ],
   "source": [
    "for colour, colour_list in gm.player2.expedition.items():\n",
    "    for card in colour_list:\n",
    "        print(card)"
   ]
  },
  {
   "cell_type": "code",
   "execution_count": 29,
   "metadata": {},
   "outputs": [
    {
     "name": "stdout",
     "output_type": "stream",
     "text": [
      "Player 1 taking action on card n 7, to expedition: False, draw_from: -1\n"
     ]
    }
   ],
   "source": [
    "gm.take_random_action(gm.player_turn)"
   ]
  },
  {
   "cell_type": "code",
   "execution_count": 36,
   "metadata": {},
   "outputs": [
    {
     "name": "stdout",
     "output_type": "stream",
     "text": [
      "green 3\n"
     ]
    }
   ],
   "source": [
    "print(gm.discard_pile[\"green\"][0])"
   ]
  },
  {
   "cell_type": "code",
   "execution_count": 37,
   "metadata": {},
   "outputs": [
    {
     "data": {
      "text/plain": [
       "2"
      ]
     },
     "execution_count": 37,
     "metadata": {},
     "output_type": "execute_result"
    }
   ],
   "source": [
    "gm.player_turn"
   ]
  },
  {
   "cell_type": "code",
   "execution_count": null,
   "metadata": {},
   "outputs": [],
   "source": []
  }
 ],
 "metadata": {
  "kernelspec": {
   "display_name": ".venv",
   "language": "python",
   "name": "python3"
  },
  "language_info": {
   "codemirror_mode": {
    "name": "ipython",
    "version": 3
   },
   "file_extension": ".py",
   "mimetype": "text/x-python",
   "name": "python",
   "nbconvert_exporter": "python",
   "pygments_lexer": "ipython3",
   "version": "3.8.0"
  },
  "orig_nbformat": 4,
  "vscode": {
   "interpreter": {
    "hash": "139d25e1a6567e7867ee9361f1ada4936c9c7af43f263f253cb76ff72a283ca5"
   }
  }
 },
 "nbformat": 4,
 "nbformat_minor": 2
}
